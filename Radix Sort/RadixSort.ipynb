{
 "cells": [
  {
   "cell_type": "code",
   "execution_count": 6,
   "id": "6d54897a",
   "metadata": {},
   "outputs": [
    {
     "name": "stdout",
     "output_type": "stream",
     "text": [
      "0.08995461463928223\n"
     ]
    }
   ],
   "source": [
    "import random\n",
    "import time\n",
    "from functools import reduce\n",
    "class RadixSort:\n",
    "    def __get_num_digits(self, A):\n",
    "        m = 0\n",
    "        for item in A:\n",
    "            m = max(m, item)\n",
    "        return len(str(m))\n",
    "\n",
    "    def __flatten(self, A):\n",
    "        return reduce(lambda x, y: x + y, A)\n",
    "\n",
    "    def radix(self, A, num_digits):\n",
    "        for digit in range(0, num_digits):\n",
    "            B = [[] for i in range(10)] # Corrected list comprehension\n",
    "            for item in A:\n",
    "                num = item // 10 ** (digit) % 10\n",
    "                B[num].append(item)\n",
    "            A = self.__flatten(B) # Added self.\n",
    "        return A\n",
    "\n",
    "    def main(self,A): # Made main a method of the class\n",
    "        # A = [12,42,542,23,345,2476,34435,9]\n",
    "        num_digits = self.__get_num_digits(A) # Added self.\n",
    "        A = self.radix(A, num_digits) # Added self.\n",
    "        return A\n",
    "random.seed(0)\n",
    "random_list = [random.randint(1, 1000) for _ in range(100000)]\n",
    "start = time.time()\n",
    "sorter = RadixSort() # Create an instance of the class\n",
    "sorter.main(random_list) # Call the main method on the instance\n",
    "end = time.time()\n",
    "print(end - start)"
   ]
  },
  {
   "cell_type": "code",
   "execution_count": 7,
   "id": "9a70b9c5",
   "metadata": {},
   "outputs": [
    {
     "data": {
      "image/png": "[encoded data removed]",
      "text/plain": [
       "<Figure size 1000x400 with 1 Axes>"
      ]
     },
     "metadata": {},
     "output_type": "display_data"
    },
    {
     "name": "stdout",
     "output_type": "stream",
     "text": [
      "Sorted array: [170, 45, 75, 90, 802, 24, 2, 66, 90, 45, 7, 24, 78, 876, 8674, 87, 90, 8, 97, 986, 676, 98]\n"
     ]
    }
   ],
   "source": [
    "import matplotlib.pyplot as plt\n",
    "import numpy as np\n",
    "import time\n",
    "from IPython.display import clear_output\n",
    "\n",
    "class RadixSortVisualized:\n",
    "    def __get_num_digits(self, arr):\n",
    "        m = 0\n",
    "        for item in arr:\n",
    "            m = max(m, item)\n",
    "        return len(str(m))\n",
    "\n",
    "    def __flatten(self, arr):\n",
    "        return reduce(lambda x, y: x + y, arr)\n",
    "\n",
    "    def radixSort(self, arr, draw_func):\n",
    "        \"\"\"\n",
    "        Radix sort implementation with visualization.\n",
    "        \"\"\"\n",
    "        max_num = max(arr)\n",
    "        num_digits = self.__get_num_digits(arr)\n",
    "\n",
    "        exp = 1\n",
    "        for digit in range(num_digits):\n",
    "            self.countingSort(arr, exp, draw_func)\n",
    "            exp *= 10\n",
    "\n",
    "    def countingSort(self, arr, exp, draw_func):\n",
    "        \"\"\"\n",
    "        A function to do counting sort of arr according to the digit represented by exp with visualization.\n",
    "        \"\"\"\n",
    "        n = len(arr)\n",
    "        output = [0] * n\n",
    "        count = [0] * 10\n",
    "\n",
    "        for i in range(n):\n",
    "            index = arr[i] // exp\n",
    "            count[index % 10] += 1\n",
    "            # Optional: Visualize the counting process\n",
    "            # draw_func(arr, highlight_indices=[i], title=f\"Counting Sort (Digit {exp}): Counting\")\n",
    "\n",
    "        for i in range(1, 10):\n",
    "            count[i] += count[i - 1]\n",
    "\n",
    "        i = n - 1\n",
    "        while i >= 0:\n",
    "            index = arr[i] // exp\n",
    "            output[count[index % 10] - 1] = arr[i]\n",
    "            count[index % 10] -= 1\n",
    "            i -= 1\n",
    "            # Optional: Visualize the building of the output array\n",
    "            # draw_func(output, highlight_indices=[count[index % 10]], title=f\"Counting Sort (Digit {exp}): Building Output\")\n",
    "\n",
    "\n",
    "        for i in range(n):\n",
    "            arr[i] = output[i]\n",
    "            draw_func(arr, title=f\"Radix Sort (Digit {exp})\")\n",
    "\n",
    "\n",
    "def draw_bars(arr, highlight_indices=None, title=\"Radix Sort\"):\n",
    "    clear_output(wait=True)\n",
    "    plt.figure(figsize=(10,4))\n",
    "    bars = plt.bar(range(len(arr)), arr, color='skyblue')\n",
    "    if highlight_indices:\n",
    "        for idx in highlight_indices:\n",
    "            if idx < len(bars):\n",
    "                bars[idx].set_color('red')\n",
    "    plt.title(title)\n",
    "    plt.xlabel(\"Index\")\n",
    "    plt.ylabel(\"Value\")\n",
    "    plt.show()\n",
    "    time.sleep(0.1) # Add a small delay to see the animation\n",
    "\n",
    "# Example Usage:\n",
    "data = [170, 45, 75, 90, 802, 24, 2, 66, 90,45,7,24,78,876,8674,87,90,8,97,986,676,98]\n",
    "radix_sorter = RadixSortVisualized()\n",
    "radix_sorter.radixSort(data.copy(), draw_bars) # Use a copy to keep original data\n",
    "print(\"Sorted array:\", data)"
   ]
  }
 ],
 "metadata": {
  "kernelspec": {
   "display_name": ".venv (3.12.2)",
   "language": "python",
   "name": "python3"
  },
  "language_info": {
   "codemirror_mode": {
    "name": "ipython",
    "version": 3
   },
   "file_extension": ".py",
   "mimetype": "text/x-python",
   "name": "python",
   "nbconvert_exporter": "python",
   "pygments_lexer": "ipython3",
   "version": "3.12.2"
  }
 },
 "nbformat": 4,
 "nbformat_minor": 5
}

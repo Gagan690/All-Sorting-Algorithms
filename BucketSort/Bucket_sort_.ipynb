{
 "cells": [
  {
   "cell_type": "code",
   "execution_count": 1,
   "id": "be0cb551",
   "metadata": {},
   "outputs": [
    {
     "name": "stdout",
     "output_type": "stream",
     "text": [
      "0.15800738334655762\n"
     ]
    }
   ],
   "source": [
    "import time\n",
    "import random\n",
    "class Solution:\n",
    "    def bucketSort(self, nums):\n",
    "        if not nums or len(nums) <= 1:\n",
    "            return nums\n",
    "\n",
    "        minNums = min(nums)\n",
    "        maxNums = max(nums)\n",
    "\n",
    "        if minNums == maxNums:\n",
    "            return nums\n",
    "\n",
    "        lenght = len(nums)\n",
    "\n",
    "        bucket = [[] for _ in range(lenght)]\n",
    "        range_per_bucket = (maxNums - minNums) / lenght\n",
    "\n",
    "        for num in nums:\n",
    "            if num == maxNums:\n",
    "                bucketIdx = lenght - 1\n",
    "            else:\n",
    "                bucketIdx = int((num - minNums) / range_per_bucket)\n",
    "            bucket[bucketIdx].append(num)\n",
    "\n",
    "        for i in range(lenght):\n",
    "            self.InsertionSort(bucket[i])\n",
    "\n",
    "        result = []\n",
    "        for buckets in bucket:\n",
    "            result.extend(buckets)\n",
    "\n",
    "        return result\n",
    "\n",
    "    def InsertionSort(self, arr):\n",
    "        n = len(arr)\n",
    "        for i in range(1,n):\n",
    "            key = arr[i]\n",
    "            j = i - 1\n",
    "            while j >= 0 and arr[j] > key:\n",
    "                arr[j+1] = arr[j]\n",
    "                j -= 1\n",
    "            arr[j+1] = key\n",
    "\n",
    "\n",
    "random_list = [random.randint(1, 1000) for _ in range(100000)]\n",
    "start = time.time()\n",
    "sorter = Solution()\n",
    "sorter.bucketSort(random_list)\n",
    "end = time.time()\n",
    "print(end - start)"
   ]
  },
  {
   "cell_type": "code",
   "execution_count": 2,
   "id": "a13d677b",
   "metadata": {},
   "outputs": [
    {
     "data": {
      "image/png": "[encoded data removed]",
      "text/plain": [
       "<Figure size 1000x400 with 1 Axes>"
      ]
     },
     "metadata": {},
     "output_type": "display_data"
    },
    {
     "name": "stdout",
     "output_type": "stream",
     "text": [
      "Sorted array: [170, 45, 75, 90, 802, 24, 2, 66, 90, 45, 7, 24, 78, 876, 8674, 87, 90, 8, 97, 986, 676, 98]\n"
     ]
    }
   ],
   "source": [
    "import matplotlib.pyplot as plt\n",
    "import numpy as np\n",
    "import time\n",
    "from IPython.display import clear_output\n",
    "\n",
    "class BucketSortVisualized:\n",
    "    def bucketSort(self, nums, draw_func):\n",
    "        if not nums or len(nums) <= 1:\n",
    "            return nums\n",
    "\n",
    "        minNums = min(nums)\n",
    "        maxNums = max(nums)\n",
    "\n",
    "        if minNums == maxNums:\n",
    "            return nums\n",
    "\n",
    "        lenght = len(nums)\n",
    "        bucket = [[] for _ in range(lenght)]\n",
    "        range_per_bucket = (maxNums - minNums) / lenght\n",
    "\n",
    "        for num in nums:\n",
    "            if num == maxNums:\n",
    "                bucketIdx = lenght - 1\n",
    "            else:\n",
    "                bucketIdx = int((num - minNums) / range_per_bucket)\n",
    "            bucket[bucketIdx].append(num)\n",
    "            draw_func(nums, highlight_indices=[nums.index(num)], title=f\"Bucket Sort: Placing {num}\")\n",
    "\n",
    "\n",
    "        sorted_nums = []\n",
    "        for i in range(lenght):\n",
    "            self.InsertionSort(bucket[i])\n",
    "            sorted_nums.extend(bucket[i])\n",
    "            draw_func(sorted_nums, title=f\"Bucket Sort: Sorting Bucket {i}\")\n",
    "\n",
    "\n",
    "        # Update the original list with sorted values\n",
    "        for i in range(len(nums)):\n",
    "            nums[i] = sorted_nums[i]\n",
    "            draw_func(nums, highlight_indices=[i], title=\"Bucket Sort: Finalizing\")\n",
    "\n",
    "\n",
    "    def InsertionSort(self, arr):\n",
    "        n = len(arr)\n",
    "        for i in range(1, n):\n",
    "            key = arr[i]\n",
    "            j = i - 1\n",
    "            while j >= 0 and arr[j] > key:\n",
    "                arr[j+1] = arr[j]\n",
    "                j -= 1\n",
    "            arr[j+1] = key\n",
    "\n",
    "\n",
    "def draw_bars(arr, highlight_indices=None, title=\"Bucket Sort\"):\n",
    "    clear_output(wait=True)\n",
    "    plt.figure(figsize=(10, 4))\n",
    "    bars = plt.bar(range(len(arr)), arr, color='skyblue')\n",
    "    if highlight_indices:\n",
    "        for idx in highlight_indices:\n",
    "            if idx < len(bars):\n",
    "                bars[idx].set_color('red')\n",
    "    plt.title(title)\n",
    "    plt.xlabel(\"Index\")\n",
    "    plt.ylabel(\"Value\")\n",
    "    plt.show()\n",
    "    time.sleep(0.1)\n",
    "\n",
    "# Example Usage:\n",
    "data = [170, 45, 75, 90, 802, 24, 2, 66, 90,45,7,24,78,876,8674,87,90,8,97,986,676,98]\n",
    "bucket_sorter = BucketSortVisualized()\n",
    "bucket_sorter.bucketSort(data.copy(), draw_bars) # Use a copy to keep original data\n",
    "print(\"Sorted array:\", data)"
   ]
  }
 ],
 "metadata": {
  "kernelspec": {
   "display_name": ".venv (3.12.2)",
   "language": "python",
   "name": "python3"
  },
  "language_info": {
   "codemirror_mode": {
    "name": "ipython",
    "version": 3
   },
   "file_extension": ".py",
   "mimetype": "text/x-python",
   "name": "python",
   "nbconvert_exporter": "python",
   "pygments_lexer": "ipython3",
   "version": "3.12.2"
  }
 },
 "nbformat": 4,
 "nbformat_minor": 5
}

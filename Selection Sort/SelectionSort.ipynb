{
 "cells": [
  {
   "cell_type": "code",
   "execution_count": 14,
   "id": "5b5360d6",
   "metadata": {},
   "outputs": [],
   "source": [
    "import time\n",
    "import matplotlib.pyplot as plt\n",
    "import numpy as np\n",
    "import IPython.display as clear_output"
   ]
  },
  {
   "cell_type": "code",
   "execution_count": 15,
   "id": "c57867a8",
   "metadata": {},
   "outputs": [],
   "source": [
    "def SelectionSort(arr, draw_bars):\n",
    "    n = len(arr)\n",
    "    for i in range(n):\n",
    "        pos = i\n",
    "        min = i\n",
    "        for j in range(i+1 , n):\n",
    "            if arr[j] < arr[min]:\n",
    "                min = j\n",
    "        arr[min] , arr[pos] = arr[pos], arr[min]\n",
    "        draw_bars(arr, min , pos)\n",
    "        \n"
   ]
  },
  {
   "cell_type": "code",
   "execution_count": 20,
   "id": "6aa8c37b",
   "metadata": {},
   "outputs": [],
   "source": [
    "def draw_bars(arr, idx1=None, idx2=None):\n",
    "    clear_output.clear_output(wait=True)\n",
    "    plt.figure(figsize=(10,4))\n",
    "    bars = plt.bar(range(len(arr)), arr, color='skyblue')\n",
    "    if idx1 is not None:\n",
    "        bars[idx1].set_color('red')\n",
    "    if idx2 is not None:\n",
    "        bars[idx2].set_color('green')\n",
    "    plt.title(\"Live Bubble Sort Animation\")\n",
    "    plt.xlabel(\"Index\")\n",
    "    plt.ylabel(\"Value\")\n",
    "    plt.show()"
   ]
  },
  {
   "cell_type": "code",
   "execution_count": 21,
   "id": "85abcefa",
   "metadata": {},
   "outputs": [
    {
     "data": {
      "image/png": "[encoded data removed]",
      "text/plain": [
       "<Figure size 1000x400 with 1 Axes>"
      ]
     },
     "metadata": {},
     "output_type": "display_data"
    },
    {
     "name": "stdout",
     "output_type": "stream",
     "text": [
      "The Total time consumed during the sorting is 7.207781553268433 sec\n"
     ]
    }
   ],
   "source": [
    "np.random.seed(611)\n",
    "random_list = [np.random.random() for _ in range(25)]\n",
    "start_time = time.time()\n",
    "SelectionSort(random_list,draw_bars) # Pass draw_bars function\n",
    "end_time = time.time()\n",
    "final_time = end_time - start_time\n",
    "print(f\"The Total time consumed during the sorting is {final_time} sec\")"
   ]
  },
  {
   "cell_type": "code",
   "execution_count": null,
   "id": "c2aba7dc",
   "metadata": {},
   "outputs": [],
   "source": []
  }
 ],
 "metadata": {
  "kernelspec": {
   "display_name": ".venv (3.12.2)",
   "language": "python",
   "name": "python3"
  },
  "language_info": {
   "codemirror_mode": {
    "name": "ipython",
    "version": 3
   },
   "file_extension": ".py",
   "mimetype": "text/x-python",
   "name": "python",
   "nbconvert_exporter": "python",
   "pygments_lexer": "ipython3",
   "version": "3.12.2"
  }
 },
 "nbformat": 4,
 "nbformat_minor": 5
}
